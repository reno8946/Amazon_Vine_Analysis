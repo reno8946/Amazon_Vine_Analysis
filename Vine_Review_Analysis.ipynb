{
  "nbformat": 4,
  "nbformat_minor": 0,
  "metadata": {
    "colab": {
      "name": "Vine_Review_Analysis.ipynb",
      "provenance": []
    },
    "kernelspec": {
      "name": "python3",
      "display_name": "Python 3"
    }
  },
  "cells": [
    {
      "cell_type": "code",
      "metadata": {
        "colab": {
          "base_uri": "https://localhost:8080/"
        },
        "id": "wGdlrL4s0CjY",
        "outputId": "80d0d1c2-deaf-4678-9cf5-e1e15b64c5a0"
      },
      "source": [
        "import os\r\n",
        "# Find the latest version of spark 2.0  from http://www-us.apache.org/dist/spark/ and enter as the spark version\r\n",
        "# For example:\r\n",
        "# spark_version = 'spark-3.0.0'\r\n",
        "spark_version = 'spark-3.0.1'\r\n",
        "os.environ['SPARK_VERSION']=spark_version\r\n",
        "\r\n",
        "# Install Spark and Java\r\n",
        "!apt-get update\r\n",
        "!apt-get install openjdk-11-jdk-headless -qq > /dev/null\r\n",
        "!wget -q http://www-us.apache.org/dist/spark/$SPARK_VERSION/$SPARK_VERSION-bin-hadoop2.7.tgz\r\n",
        "!tar xf $SPARK_VERSION-bin-hadoop2.7.tgz\r\n",
        "!pip install -q findspark\r\n",
        "\r\n",
        "# Set Environment Variables\r\n",
        "import os\r\n",
        "os.environ[\"JAVA_HOME\"] = \"/usr/lib/jvm/java-11-openjdk-amd64\"\r\n",
        "os.environ[\"SPARK_HOME\"] = f\"/content/{spark_version}-bin-hadoop2.7\"\r\n",
        "\r\n",
        "# Start a SparkSession\r\n",
        "import findspark\r\n",
        "findspark.init()"
      ],
      "execution_count": 3,
      "outputs": [
        {
          "output_type": "stream",
          "text": [
            "\r0% [Working]\r            \rGet:1 http://security.ubuntu.com/ubuntu bionic-security InRelease [88.7 kB]\n",
            "\r0% [Connecting to archive.ubuntu.com] [1 InRelease 14.2 kB/88.7 kB 16%] [Connec\r                                                                               \rGet:2 https://cloud.r-project.org/bin/linux/ubuntu bionic-cran40/ InRelease [3,626 B]\n",
            "Ign:3 https://developer.download.nvidia.com/compute/cuda/repos/ubuntu1804/x86_64  InRelease\n",
            "Get:4 http://ppa.launchpad.net/c2d4u.team/c2d4u4.0+/ubuntu bionic InRelease [15.9 kB]\n",
            "Ign:5 https://developer.download.nvidia.com/compute/machine-learning/repos/ubuntu1804/x86_64  InRelease\n",
            "Hit:6 https://developer.download.nvidia.com/compute/cuda/repos/ubuntu1804/x86_64  Release\n",
            "Hit:7 https://developer.download.nvidia.com/compute/machine-learning/repos/ubuntu1804/x86_64  Release\n",
            "Hit:8 http://archive.ubuntu.com/ubuntu bionic InRelease\n",
            "Get:9 http://archive.ubuntu.com/ubuntu bionic-updates InRelease [88.7 kB]\n",
            "Hit:10 http://ppa.launchpad.net/cran/libgit2/ubuntu bionic InRelease\n",
            "Get:11 https://cloud.r-project.org/bin/linux/ubuntu bionic-cran40/ Packages [41.5 kB]\n",
            "Hit:12 http://ppa.launchpad.net/graphics-drivers/ppa/ubuntu bionic InRelease\n",
            "Get:13 http://archive.ubuntu.com/ubuntu bionic-backports InRelease [74.6 kB]\n",
            "Get:16 http://ppa.launchpad.net/c2d4u.team/c2d4u4.0+/ubuntu bionic/main Sources [1,703 kB]\n",
            "Get:17 http://ppa.launchpad.net/c2d4u.team/c2d4u4.0+/ubuntu bionic/main amd64 Packages [872 kB]\n",
            "Fetched 2,889 kB in 3s (956 kB/s)\n",
            "Reading package lists... Done\n"
          ],
          "name": "stdout"
        }
      ]
    },
    {
      "cell_type": "code",
      "metadata": {
        "colab": {
          "base_uri": "https://localhost:8080/"
        },
        "id": "oXbquKZr0RFT",
        "outputId": "89ed7647-c438-41f4-da3d-c2a04c1d3012"
      },
      "source": [
        "# Download the Postgres driver that will allow Spark to interact with Postgres.\r\n",
        "!wget https://jdbc.postgresql.org/download/postgresql-42.2.16.jar"
      ],
      "execution_count": 4,
      "outputs": [
        {
          "output_type": "stream",
          "text": [
            "--2020-12-30 07:11:38--  https://jdbc.postgresql.org/download/postgresql-42.2.16.jar\n",
            "Resolving jdbc.postgresql.org (jdbc.postgresql.org)... 72.32.157.228, 2001:4800:3e1:1::228\n",
            "Connecting to jdbc.postgresql.org (jdbc.postgresql.org)|72.32.157.228|:443... connected.\n",
            "HTTP request sent, awaiting response... 200 OK\n",
            "Length: 1002883 (979K) [application/java-archive]\n",
            "Saving to: ‘postgresql-42.2.16.jar’\n",
            "\n",
            "postgresql-42.2.16. 100%[===================>] 979.38K  --.-KB/s    in 0.1s    \n",
            "\n",
            "2020-12-30 07:11:39 (6.61 MB/s) - ‘postgresql-42.2.16.jar’ saved [1002883/1002883]\n",
            "\n"
          ],
          "name": "stdout"
        }
      ]
    },
    {
      "cell_type": "code",
      "metadata": {
        "id": "C2zSxSod0cVb"
      },
      "source": [
        "from pyspark.sql import SparkSession\r\n",
        "spark = SparkSession.builder.appName(\"BigData-Challenge\").config(\"spark.driver.extraClassPath\",\"/content/postgresql-42.2.16.jar\").getOrCreate()"
      ],
      "execution_count": 5,
      "outputs": []
    },
    {
      "cell_type": "code",
      "metadata": {
        "colab": {
          "base_uri": "https://localhost:8080/"
        },
        "id": "b395Ionb0keb",
        "outputId": "68ad657e-6c0f-48a1-cb61-d7b43e9e8454"
      },
      "source": [
        "from pyspark import SparkFiles\r\n",
        "url = \"https://s3.amazonaws.com/amazon-reviews-pds/tsv/amazon_reviews_us_Baby_v1_00.tsv.gz\"\r\n",
        "spark.sparkContext.addFile(url)\r\n",
        "df = spark.read.option(\"encoding\", \"UTF-8\").csv(SparkFiles.get(\"amazon_reviews_us_Baby_v1_00.tsv.gz\"), sep=\"\\t\", header=True, inferSchema=True)\r\n",
        "df.show()"
      ],
      "execution_count": 6,
      "outputs": [
        {
          "output_type": "stream",
          "text": [
            "+-----------+-----------+--------------+----------+--------------+--------------------+----------------+-----------+-------------+-----------+----+-----------------+--------------------+--------------------+-----------+\n",
            "|marketplace|customer_id|     review_id|product_id|product_parent|       product_title|product_category|star_rating|helpful_votes|total_votes|vine|verified_purchase|     review_headline|         review_body|review_date|\n",
            "+-----------+-----------+--------------+----------+--------------+--------------------+----------------+-----------+-------------+-----------+----+-----------------+--------------------+--------------------+-----------+\n",
            "|         US|    9970739| R8EWA1OFT84NX|B00GSP5D94|     329991347|Summer Infant Swa...|            Baby|          5|            0|          0|   N|                Y|Great swaddled bl...|Loved these swadd...| 2015-08-31|\n",
            "|         US|   23538442|R2JWY4YRQD4FOP|B00YYDDZGU|     646108902|Pacifier Clip Gir...|            Baby|          5|            0|          0|   N|                N|Too cute and real...|These are adorabl...| 2015-08-31|\n",
            "|         US|    8273344| RL5ESX231LZ0B|B00BUBNZC8|     642922361|Udder Covers - Br...|            Baby|          5|            0|          0|   N|                Y|          Five Stars|          Great gift| 2015-08-31|\n",
            "|         US|   24557753| RRMS9ZWJ2KD08|B00AWLZFTS|     494272733|Gerber Graduates ...|            Baby|          5|            0|          0|   N|                Y|Cute; wash up nic...|These forks are g...| 2015-08-31|\n",
            "|         US|   46263340|R14I3ZG5E6S7YM|B00KM60D3Q|     305813185|Summer Infant Ult...|            Baby|          5|            0|          0|   N|                Y|            Love it!|I wanted somethin...| 2015-08-31|\n",
            "|         US|   24557753|R13EPSFP5DODN5|B00PQMRZG4|     607341708|Summer Infant Kee...|            Baby|          4|            0|          0|   N|                Y|        Rips easily.|Loved with daught...| 2015-08-31|\n",
            "|         US|   33520065| R6RBP4HTE67SY|B005DL5970|     971881542|Natural HE Powder...|            Baby|          5|            0|          0|   N|                Y|Cloth Diaper Dete...|This is a great d...| 2015-08-31|\n",
            "|         US|   20241560|R15B3EU40RSU2W|B00C6D2WL4|      93827401|Dr. Brown's Bottl...|            Baby|          5|            0|          0|   N|                Y|          Five Stars|                good| 2015-08-31|\n",
            "|         US|    9987983| RP4DD53A4ZJA2|B0083973FK|     958629336|Sposie Booster Pa...|            Baby|          5|            0|          0|   N|                Y|          Five Stars|With these my mil...| 2015-08-31|\n",
            "|         US|   52570308|R2C99DJEO4RZ4K|B00RLYG2S2|     147324304|Abiie Beyond Wood...|            Baby|          5|            3|          4|   N|                Y|So far I love thi...|So far I love thi...| 2015-08-31|\n",
            "|         US|    9287389| REV51EW323H8W|B010UX9T5I|     446691106|Lovinglove Baby G...|            Baby|          5|            0|          0|   N|                Y|          Five Stars|           Love them| 2015-08-31|\n",
            "|         US|   32840762|R2GQ3W03WIUZKE|B00VWBY7SC|     271204734|Bugzi Stroller Ho...|            Baby|          5|            0|          0|   N|                Y|Love these hooks ...|Love these hooks ...| 2015-08-31|\n",
            "|         US|    7797182| RTI1YI7K6GE3D|B006ZBPH24|      67911244|Born Free 5 oz. B...|            Baby|          5|            0|          0|   N|                Y|          Five Stars|           very good| 2015-08-31|\n",
            "|         US|   14788115|R3V9C2C0SPSZU6|B00UGV8BEU|     613360092|Baby Bandana Bibs...|            Baby|          5|            0|          0|   N|                Y|            Perfect!|Love these bibs! ...| 2015-08-31|\n",
            "|         US|   37909065|R1LB42XCSSCLV6|B005BIOOYO|     527977399|Flip Stay-Dry Ins...|            Baby|          5|            0|          0|   N|                Y|best inserts for ...|I love these. The...| 2015-08-31|\n",
            "|         US|   15935520|R113NWCW6STTMC|B0071D1AKI|     634188771|Aqueduck The ORIG...|            Baby|          5|            0|          0|   N|                Y|        Very Helpful|This worked exact...| 2015-08-31|\n",
            "|         US|   16308044| RWRN5XK337N41|B00M2F0OYS|     166133791|Motorola Baby Mon...|            Baby|          1|            0|          0|   N|                N|Very Dissapointed...|I am so disappoin...| 2015-08-31|\n",
            "|         US|    8168178| RF4WL3QEP3PVI|B00QCBD5AS|     294351494|Minnie Mouse Delu...|            Baby|          1|            0|          0|   N|                Y|            One Star|Ordered minnie mo...| 2015-08-31|\n",
            "|         US|   23299101|R2DRL5NRODVQ3Z|B00SN6F9NG|       3470998|Rhoost Nail Clipp...|            Baby|          5|            2|          2|   N|                Y|If fits so comfor...|This is an absolu...| 2015-08-31|\n",
            "|         US|   14261025|R3T9B92MDDHKMM|B00J0YTS1E|     488640919|My Natural Owl Mu...|            Baby|          2|            5|          5|   N|                Y|Used to be great....|They changed the ...| 2015-08-31|\n",
            "+-----------+-----------+--------------+----------+--------------+--------------------+----------------+-----------+-------------+-----------+----+-----------------+--------------------+--------------------+-----------+\n",
            "only showing top 20 rows\n",
            "\n"
          ],
          "name": "stdout"
        }
      ]
    },
    {
      "cell_type": "code",
      "metadata": {
        "colab": {
          "base_uri": "https://localhost:8080/"
        },
        "id": "qG6VYLC10soi",
        "outputId": "f3d560bc-426e-43b5-e55a-2d65d2ac713a"
      },
      "source": [
        "from pyspark.sql.functions import to_date\r\n",
        "from pyspark.sql.types import *\r\n",
        "# Read in the Review dataset as a DataFrame\r\n",
        "df.printSchema()"
      ],
      "execution_count": 7,
      "outputs": [
        {
          "output_type": "stream",
          "text": [
            "root\n",
            " |-- marketplace: string (nullable = true)\n",
            " |-- customer_id: integer (nullable = true)\n",
            " |-- review_id: string (nullable = true)\n",
            " |-- product_id: string (nullable = true)\n",
            " |-- product_parent: integer (nullable = true)\n",
            " |-- product_title: string (nullable = true)\n",
            " |-- product_category: string (nullable = true)\n",
            " |-- star_rating: integer (nullable = true)\n",
            " |-- helpful_votes: integer (nullable = true)\n",
            " |-- total_votes: integer (nullable = true)\n",
            " |-- vine: string (nullable = true)\n",
            " |-- verified_purchase: string (nullable = true)\n",
            " |-- review_headline: string (nullable = true)\n",
            " |-- review_body: string (nullable = true)\n",
            " |-- review_date: string (nullable = true)\n",
            "\n"
          ],
          "name": "stdout"
        }
      ]
    },
    {
      "cell_type": "code",
      "metadata": {
        "colab": {
          "base_uri": "https://localhost:8080/"
        },
        "id": "nYXuV2631B3Y",
        "outputId": "31d4120b-577a-4814-92e8-e292d47249e3"
      },
      "source": [
        "votes_20_df = df.filter('total_votes >= 20')\r\n",
        "votes_20_df.show()"
      ],
      "execution_count": 8,
      "outputs": [
        {
          "output_type": "stream",
          "text": [
            "+-----------+-----------+--------------+----------+--------------+--------------------+----------------+-----------+-------------+-----------+----+-----------------+--------------------+--------------------+-----------+\n",
            "|marketplace|customer_id|     review_id|product_id|product_parent|       product_title|product_category|star_rating|helpful_votes|total_votes|vine|verified_purchase|     review_headline|         review_body|review_date|\n",
            "+-----------+-----------+--------------+----------+--------------+--------------------+----------------+-----------+-------------+-----------+----+-----------------+--------------------+--------------------+-----------+\n",
            "|         US|   14499497| ROI00QN8IS49I|B00M5CMRNE|     326338622|Baltic Amber Teet...|            Baby|          5|           83|         91|   N|                N|Absolutely GORGEO...|Beautiful Amber!<...| 2015-08-31|\n",
            "|         US|    1243530|R13C5INE1RTZP6|B00G66UDAO|     130471439|Sportspower For B...|            Baby|          2|           26|         26|   N|                Y|        nice but....|Nice but the seat...| 2015-08-31|\n",
            "|         US|   22935487| RXVMMXCL67MZN|B00V0VQK1G|       7432246|Delta Children 4-...|            Baby|          4|          378|        383|   N|                Y|perfect for small...|Got these today, ...| 2015-08-31|\n",
            "|         US|   38665516|R33JJQWAUYBKD3|B005ULUZIQ|     420862361|Love to Dream Swa...|            Baby|          5|          270|        280|   N|                Y|worth every penny...|First off, worth ...| 2015-08-31|\n",
            "|         US|   21155796|R3N0XV9267NOXV|B00ZKTVI66|     155258416|Graco LiteRider C...|            Baby|          5|           41|         47|   Y|                N|No more disturbin...|This version of t...| 2015-08-31|\n",
            "|         US|   19070678|R31HQD6YXSQV1W|B004JU0H7S|      19045019|Dream On Me Mattress|            Baby|          3|           40|         48|   N|                Y|I just don't like...|Fits standard siz...| 2015-08-31|\n",
            "|         US|   51688296|R33LQSF958O6K8|B0052QYLUM|     850036950|Infant Optics DXR...|            Baby|          5|           39|         41|   N|                Y|Nice, reliable vi...|I've owned one of...| 2015-08-30|\n",
            "|         US|   44429441|R3OIDSQJ84W7J1|B0101OFK22|     712088413|Baby Nasal Aspira...|            Baby|          5|           21|         24|   N|                N|Must have baby ca...|My little one is ...| 2015-08-30|\n",
            "|         US|   31272932|R3UUR313K5VVTL|B00ZIDWRHS|     776845878|Kids Travel Play ...|            Baby|          1|            1|         24|   N|                Y|      Waste of money|Very flimsy. Not ...| 2015-08-30|\n",
            "|         US|   12732221| RODE8K12S7148|B00ISS2QCQ|     821219016|Diono Rainier Con...|            Baby|          5|           41|         45|   N|                Y|Need to fit 2 acr...|I have baby #3 on...| 2015-08-30|\n",
            "|         US|   27425737|R2QZFYFUKP22SP|B0052QYLUM|     850036950|Infant Optics DXR...|            Baby|          5|           33|         37|   N|                Y|  Bang For Your Buck|This monitor has ...| 2015-08-30|\n",
            "|         US|   38201168| RFON10GAZKDL3|B00T6X3LI0|     154174591|Petunia Pickle Bo...|            Baby|          3|           16|         20|   N|                Y|Nice bag, just do...|nice bag but does...| 2015-08-30|\n",
            "|         US|   43572560|R2UXKAUFMPE0PJ|B00028XJNA|     756441329|Medela Pump and S...|            Baby|          1|           29|         29|   N|                N|  I hate these bags.|These bags make i...| 2015-08-30|\n",
            "|         US|   15976784|R20YYYGIRVB7F1|B00O8RRFZ4|     515574346|Evenflo Maestro B...|            Baby|          1|           32|         41|   N|                N|Wish I had known ...|Wish I had known ...| 2015-08-30|\n",
            "|         US|   31778374|R36065K853ACRA|B00I3K1D00|     613856293|Summer Infant Ext...|            Baby|          3|           28|         34|   N|                Y|             Poor :(|I should have rea...| 2015-08-30|\n",
            "|         US|    1350411| RBS6RYHXL83L8|B00O8RRR2A|      27599661|Evenflo Symphony ...|            Baby|          5|           49|         57|   N|                Y|Best Anchor Conne...|Hands down the be...| 2015-08-30|\n",
            "|         US|   51891452|R2D5JAVXATJOQB|B00YG4DWRO|     330927873|Summer Infant Pee...|            Baby|          4|           45|         48|   N|                Y|\"Almost\" a great ...|Bottom line 4 sta...| 2015-08-30|\n",
            "|         US|   39434327|R1SUS9Y51N3QO8|B006Y3S838|     308351589|Munchkin Click Lo...|            Baby|          1|           42|         46|   N|                N|Very interesting ...|Man Munchkin's re...| 2015-08-30|\n",
            "|         US|    8051838|R3DKDS7674IU4Z|B00BLBLR1I|     186458204|Spectra Baby USA ...|            Baby|          5|           29|         31|   N|                N|       Great pump!!!|I love my spectra...| 2015-08-30|\n",
            "|         US|   18224278|R3VER1GSR74AHB|B00UE7RP20|     479561903|BabyKeeps Adjusta...|            Baby|          4|           38|         39|   N|                Y|Good for cat proo...|[[VIDEOID:540ba57...| 2015-08-30|\n",
            "+-----------+-----------+--------------+----------+--------------+--------------------+----------------+-----------+-------------+-----------+----+-----------------+--------------------+--------------------+-----------+\n",
            "only showing top 20 rows\n",
            "\n"
          ],
          "name": "stdout"
        }
      ]
    },
    {
      "cell_type": "code",
      "metadata": {
        "colab": {
          "base_uri": "https://localhost:8080/"
        },
        "id": "9D6xAmr11ZDg",
        "outputId": "1c51e9c6-6862-47b1-afeb-422ed8cc9fd3"
      },
      "source": [
        "top_50_votes_df = votes_20_df.filter(\"helpful_votes/total_votes>=.5\")\r\n",
        "top_50_votes_df.show()"
      ],
      "execution_count": 9,
      "outputs": [
        {
          "output_type": "stream",
          "text": [
            "+-----------+-----------+--------------+----------+--------------+--------------------+----------------+-----------+-------------+-----------+----+-----------------+--------------------+--------------------+-----------+\n",
            "|marketplace|customer_id|     review_id|product_id|product_parent|       product_title|product_category|star_rating|helpful_votes|total_votes|vine|verified_purchase|     review_headline|         review_body|review_date|\n",
            "+-----------+-----------+--------------+----------+--------------+--------------------+----------------+-----------+-------------+-----------+----+-----------------+--------------------+--------------------+-----------+\n",
            "|         US|   14499497| ROI00QN8IS49I|B00M5CMRNE|     326338622|Baltic Amber Teet...|            Baby|          5|           83|         91|   N|                N|Absolutely GORGEO...|Beautiful Amber!<...| 2015-08-31|\n",
            "|         US|    1243530|R13C5INE1RTZP6|B00G66UDAO|     130471439|Sportspower For B...|            Baby|          2|           26|         26|   N|                Y|        nice but....|Nice but the seat...| 2015-08-31|\n",
            "|         US|   22935487| RXVMMXCL67MZN|B00V0VQK1G|       7432246|Delta Children 4-...|            Baby|          4|          378|        383|   N|                Y|perfect for small...|Got these today, ...| 2015-08-31|\n",
            "|         US|   38665516|R33JJQWAUYBKD3|B005ULUZIQ|     420862361|Love to Dream Swa...|            Baby|          5|          270|        280|   N|                Y|worth every penny...|First off, worth ...| 2015-08-31|\n",
            "|         US|   21155796|R3N0XV9267NOXV|B00ZKTVI66|     155258416|Graco LiteRider C...|            Baby|          5|           41|         47|   Y|                N|No more disturbin...|This version of t...| 2015-08-31|\n",
            "|         US|   19070678|R31HQD6YXSQV1W|B004JU0H7S|      19045019|Dream On Me Mattress|            Baby|          3|           40|         48|   N|                Y|I just don't like...|Fits standard siz...| 2015-08-31|\n",
            "|         US|   51688296|R33LQSF958O6K8|B0052QYLUM|     850036950|Infant Optics DXR...|            Baby|          5|           39|         41|   N|                Y|Nice, reliable vi...|I've owned one of...| 2015-08-30|\n",
            "|         US|   44429441|R3OIDSQJ84W7J1|B0101OFK22|     712088413|Baby Nasal Aspira...|            Baby|          5|           21|         24|   N|                N|Must have baby ca...|My little one is ...| 2015-08-30|\n",
            "|         US|   12732221| RODE8K12S7148|B00ISS2QCQ|     821219016|Diono Rainier Con...|            Baby|          5|           41|         45|   N|                Y|Need to fit 2 acr...|I have baby #3 on...| 2015-08-30|\n",
            "|         US|   27425737|R2QZFYFUKP22SP|B0052QYLUM|     850036950|Infant Optics DXR...|            Baby|          5|           33|         37|   N|                Y|  Bang For Your Buck|This monitor has ...| 2015-08-30|\n",
            "|         US|   38201168| RFON10GAZKDL3|B00T6X3LI0|     154174591|Petunia Pickle Bo...|            Baby|          3|           16|         20|   N|                Y|Nice bag, just do...|nice bag but does...| 2015-08-30|\n",
            "|         US|   43572560|R2UXKAUFMPE0PJ|B00028XJNA|     756441329|Medela Pump and S...|            Baby|          1|           29|         29|   N|                N|  I hate these bags.|These bags make i...| 2015-08-30|\n",
            "|         US|   15976784|R20YYYGIRVB7F1|B00O8RRFZ4|     515574346|Evenflo Maestro B...|            Baby|          1|           32|         41|   N|                N|Wish I had known ...|Wish I had known ...| 2015-08-30|\n",
            "|         US|   31778374|R36065K853ACRA|B00I3K1D00|     613856293|Summer Infant Ext...|            Baby|          3|           28|         34|   N|                Y|             Poor :(|I should have rea...| 2015-08-30|\n",
            "|         US|    1350411| RBS6RYHXL83L8|B00O8RRR2A|      27599661|Evenflo Symphony ...|            Baby|          5|           49|         57|   N|                Y|Best Anchor Conne...|Hands down the be...| 2015-08-30|\n",
            "|         US|   51891452|R2D5JAVXATJOQB|B00YG4DWRO|     330927873|Summer Infant Pee...|            Baby|          4|           45|         48|   N|                Y|\"Almost\" a great ...|Bottom line 4 sta...| 2015-08-30|\n",
            "|         US|   39434327|R1SUS9Y51N3QO8|B006Y3S838|     308351589|Munchkin Click Lo...|            Baby|          1|           42|         46|   N|                N|Very interesting ...|Man Munchkin's re...| 2015-08-30|\n",
            "|         US|    8051838|R3DKDS7674IU4Z|B00BLBLR1I|     186458204|Spectra Baby USA ...|            Baby|          5|           29|         31|   N|                N|       Great pump!!!|I love my spectra...| 2015-08-30|\n",
            "|         US|   18224278|R3VER1GSR74AHB|B00UE7RP20|     479561903|BabyKeeps Adjusta...|            Baby|          4|           38|         39|   N|                Y|Good for cat proo...|[[VIDEOID:540ba57...| 2015-08-30|\n",
            "|         US|    9204908| R4KKILPJRQ2J5|B005CF35O6|     813915180|Baby Einstein Ani...|            Baby|          1|           12|         20|   N|                Y|cheap...w visual aid|It's been a month...| 2015-08-29|\n",
            "+-----------+-----------+--------------+----------+--------------+--------------------+----------------+-----------+-------------+-----------+----+-----------------+--------------------+--------------------+-----------+\n",
            "only showing top 20 rows\n",
            "\n"
          ],
          "name": "stdout"
        }
      ]
    },
    {
      "cell_type": "code",
      "metadata": {
        "colab": {
          "base_uri": "https://localhost:8080/"
        },
        "id": "NdAVzI4_34-B",
        "outputId": "9e861c90-6de7-4777-c24d-16bbe74fc380"
      },
      "source": [
        "vine_y_df = top_50_votes_df.filter('vine == \"Y\"')\r\n",
        "vine_y_df.show()"
      ],
      "execution_count": 10,
      "outputs": [
        {
          "output_type": "stream",
          "text": [
            "+-----------+-----------+--------------+----------+--------------+--------------------+----------------+-----------+-------------+-----------+----+-----------------+--------------------+--------------------+-----------+\n",
            "|marketplace|customer_id|     review_id|product_id|product_parent|       product_title|product_category|star_rating|helpful_votes|total_votes|vine|verified_purchase|     review_headline|         review_body|review_date|\n",
            "+-----------+-----------+--------------+----------+--------------+--------------------+----------------+-----------+-------------+-----------+----+-----------------+--------------------+--------------------+-----------+\n",
            "|         US|   21155796|R3N0XV9267NOXV|B00ZKTVI66|     155258416|Graco LiteRider C...|            Baby|          5|           41|         47|   Y|                N|No more disturbin...|This version of t...| 2015-08-31|\n",
            "|         US|   25087234| RSA6JQ346JZHZ|B00SIL7EZ2|     916919021|Skip Hop Moonligh...|            Baby|          5|           55|         64|   Y|                Y|Very helpful for ...|Oh my God, this n...| 2015-08-29|\n",
            "|         US|   16520946|R1FXF4HRMCLG4C|B00Y2863CA|     367225394|Graco Nautilus 65...|            Baby|          5|           69|         84|   Y|                N|A great seat with...|This is my third ...| 2015-08-28|\n",
            "|         US|   44759540| RCTBWC3II42MG|B00ZKTVI66|     155258416|Graco LiteRider C...|            Baby|          4|          113|        117|   Y|                N|Excellent Strolle...|We love this stro...| 2015-08-28|\n",
            "|         US|   29647935| RTMQM2CQ1XIZ0|B00Y286O6U|     431170285|  Graco Glider Elite|            Baby|          5|           21|         25|   Y|                N|gentle gliding mo...|I really like thi...| 2015-08-20|\n",
            "|         US|   48428870|R2CBJLCKQ612KU|B00UT0E4KI|     420347411|Ingenuity Trio 3-...|            Baby|          4|           27|         35|   Y|                N|Good 3-in-1 high ...|This is a nice 3-...| 2015-08-20|\n",
            "|         US|   12292839|R322QDGO4AV2B5|B00Y2863CA|     367225394|Graco Nautilus 65...|            Baby|          5|           55|         65|   Y|                N|From box to SUV i...|Wow!  I was reall...| 2015-08-18|\n",
            "|         US|   14834258| R2S7CXRDGQ6EE|B00PX8PDII|      95589830|Graco Aire3 Click...|            Baby|          4|           36|         39|   Y|                N|Does not work as ...|This is a nice st...| 2015-08-18|\n",
            "|         US|   12257250|R3ECMXK0SGR1VV|B00SIL7EZ2|     916919021|Skip Hop Moonligh...|            Baby|          5|           59|         64|   Y|                N|Excellent night l...|My five year old ...| 2015-08-14|\n",
            "|         US|   52850919|R3D55CPJ6J6Z78|B00Y2863CA|     367225394|Graco Nautilus 65...|            Baby|          4|           15|         20|   Y|                N|Seems comfortable...|My daughter is 23...| 2015-08-12|\n",
            "|         US|   49336498|R1Y9OYIUCP3WD2|B00NFET6TY|     107666419|Fisher-Price Snug...|            Baby|          4|           20|         20|   Y|                N|   Some shortcomings|I got this Snugap...| 2015-08-10|\n",
            "|         US|   16520946| RT8AV0IB2PGHH|B00Y286AHS|     688619226|Graco 4ever All-i...|            Baby|          4|          108|        132|   Y|                N|Very functional s...|This is a very fu...| 2015-08-09|\n",
            "|         US|   47030935|R2RLHJRJD9B0NX|B00WANFZIM|     132509648|Skip Hop Baby Zoo...|            Baby|          3|           44|         47|   Y|                N|I really wanted t...|This is an absolu...| 2015-08-09|\n",
            "|         US|   31461331| RAPD7IX0LPZ10|B00NFETDR4|      72779138|Fisher-Price Calm...|            Baby|          4|           36|         37|   Y|                N|Adorable!!! Just ...|This Fisher Price...| 2015-08-07|\n",
            "|         US|   45725380|R37QPCBNR07PPR|B00821FLT4|     322274430|    Ubbi Diaper Pail|            Baby|          1|           22|         27|   Y|                N|Pretty Much a Tra...|So I admit, I rea...| 2015-07-25|\n",
            "|         US|   13797074|R3BRFPK8N59XPY|B00Y286AHS|     688619226|Graco 4ever All-i...|            Baby|          5|          364|        395|   Y|                N|Comfortable, Safe...|I have four child...| 2015-07-22|\n",
            "|         US|   44737123|R1WE59I775L7L9|B00821FLT4|     322274430|    Ubbi Diaper Pail|            Baby|          4|           31|         33|   Y|                N|The Cadilac of Di...|Ubbi Diaper Pail,...| 2015-07-18|\n",
            "|         US|   52866296| RO8IGQJV1PKCJ|B00PX8PCSO|     693305455|Graco Aire3 Click...|            Baby|          5|           78|         84|   Y|                N|The higher qualit...|You get the strol...| 2015-07-17|\n",
            "|         US|   48428870| RWZDJT9MQP6A4|B00V0ARIBI|     712341274|  Chicco Nextfit Zip|            Baby|          5|           86|         97|   Y|                N|Very well thought...|I watch my grands...| 2015-07-12|\n",
            "|         US|   31302915|R2VDXEVKFSJU36|B00PX8PQBC|     151402377|Graco Relay Click...|            Baby|          5|           20|         22|   Y|                N|Excellent jogger ...|We are Bob stroll...| 2015-07-08|\n",
            "+-----------+-----------+--------------+----------+--------------+--------------------+----------------+-----------+-------------+-----------+----+-----------------+--------------------+--------------------+-----------+\n",
            "only showing top 20 rows\n",
            "\n"
          ],
          "name": "stdout"
        }
      ]
    },
    {
      "cell_type": "code",
      "metadata": {
        "id": "ihkfG5i-38_D"
      },
      "source": [
        ""
      ],
      "execution_count": null,
      "outputs": []
    },
    {
      "cell_type": "code",
      "metadata": {
        "colab": {
          "base_uri": "https://localhost:8080/"
        },
        "id": "_5anxsTV4dyw",
        "outputId": "d9d18317-cc04-49e8-accf-762ab0b802eb"
      },
      "source": [
        "vine_n_df = top_50_votes_df.filter('vine == \"N\"')\r\n",
        "vine_n_df.show()"
      ],
      "execution_count": 11,
      "outputs": [
        {
          "output_type": "stream",
          "text": [
            "+-----------+-----------+--------------+----------+--------------+--------------------+----------------+-----------+-------------+-----------+----+-----------------+--------------------+--------------------+-----------+\n",
            "|marketplace|customer_id|     review_id|product_id|product_parent|       product_title|product_category|star_rating|helpful_votes|total_votes|vine|verified_purchase|     review_headline|         review_body|review_date|\n",
            "+-----------+-----------+--------------+----------+--------------+--------------------+----------------+-----------+-------------+-----------+----+-----------------+--------------------+--------------------+-----------+\n",
            "|         US|   14499497| ROI00QN8IS49I|B00M5CMRNE|     326338622|Baltic Amber Teet...|            Baby|          5|           83|         91|   N|                N|Absolutely GORGEO...|Beautiful Amber!<...| 2015-08-31|\n",
            "|         US|    1243530|R13C5INE1RTZP6|B00G66UDAO|     130471439|Sportspower For B...|            Baby|          2|           26|         26|   N|                Y|        nice but....|Nice but the seat...| 2015-08-31|\n",
            "|         US|   22935487| RXVMMXCL67MZN|B00V0VQK1G|       7432246|Delta Children 4-...|            Baby|          4|          378|        383|   N|                Y|perfect for small...|Got these today, ...| 2015-08-31|\n",
            "|         US|   38665516|R33JJQWAUYBKD3|B005ULUZIQ|     420862361|Love to Dream Swa...|            Baby|          5|          270|        280|   N|                Y|worth every penny...|First off, worth ...| 2015-08-31|\n",
            "|         US|   19070678|R31HQD6YXSQV1W|B004JU0H7S|      19045019|Dream On Me Mattress|            Baby|          3|           40|         48|   N|                Y|I just don't like...|Fits standard siz...| 2015-08-31|\n",
            "|         US|   51688296|R33LQSF958O6K8|B0052QYLUM|     850036950|Infant Optics DXR...|            Baby|          5|           39|         41|   N|                Y|Nice, reliable vi...|I've owned one of...| 2015-08-30|\n",
            "|         US|   44429441|R3OIDSQJ84W7J1|B0101OFK22|     712088413|Baby Nasal Aspira...|            Baby|          5|           21|         24|   N|                N|Must have baby ca...|My little one is ...| 2015-08-30|\n",
            "|         US|   12732221| RODE8K12S7148|B00ISS2QCQ|     821219016|Diono Rainier Con...|            Baby|          5|           41|         45|   N|                Y|Need to fit 2 acr...|I have baby #3 on...| 2015-08-30|\n",
            "|         US|   27425737|R2QZFYFUKP22SP|B0052QYLUM|     850036950|Infant Optics DXR...|            Baby|          5|           33|         37|   N|                Y|  Bang For Your Buck|This monitor has ...| 2015-08-30|\n",
            "|         US|   38201168| RFON10GAZKDL3|B00T6X3LI0|     154174591|Petunia Pickle Bo...|            Baby|          3|           16|         20|   N|                Y|Nice bag, just do...|nice bag but does...| 2015-08-30|\n",
            "|         US|   43572560|R2UXKAUFMPE0PJ|B00028XJNA|     756441329|Medela Pump and S...|            Baby|          1|           29|         29|   N|                N|  I hate these bags.|These bags make i...| 2015-08-30|\n",
            "|         US|   15976784|R20YYYGIRVB7F1|B00O8RRFZ4|     515574346|Evenflo Maestro B...|            Baby|          1|           32|         41|   N|                N|Wish I had known ...|Wish I had known ...| 2015-08-30|\n",
            "|         US|   31778374|R36065K853ACRA|B00I3K1D00|     613856293|Summer Infant Ext...|            Baby|          3|           28|         34|   N|                Y|             Poor :(|I should have rea...| 2015-08-30|\n",
            "|         US|    1350411| RBS6RYHXL83L8|B00O8RRR2A|      27599661|Evenflo Symphony ...|            Baby|          5|           49|         57|   N|                Y|Best Anchor Conne...|Hands down the be...| 2015-08-30|\n",
            "|         US|   51891452|R2D5JAVXATJOQB|B00YG4DWRO|     330927873|Summer Infant Pee...|            Baby|          4|           45|         48|   N|                Y|\"Almost\" a great ...|Bottom line 4 sta...| 2015-08-30|\n",
            "|         US|   39434327|R1SUS9Y51N3QO8|B006Y3S838|     308351589|Munchkin Click Lo...|            Baby|          1|           42|         46|   N|                N|Very interesting ...|Man Munchkin's re...| 2015-08-30|\n",
            "|         US|    8051838|R3DKDS7674IU4Z|B00BLBLR1I|     186458204|Spectra Baby USA ...|            Baby|          5|           29|         31|   N|                N|       Great pump!!!|I love my spectra...| 2015-08-30|\n",
            "|         US|   18224278|R3VER1GSR74AHB|B00UE7RP20|     479561903|BabyKeeps Adjusta...|            Baby|          4|           38|         39|   N|                Y|Good for cat proo...|[[VIDEOID:540ba57...| 2015-08-30|\n",
            "|         US|    9204908| R4KKILPJRQ2J5|B005CF35O6|     813915180|Baby Einstein Ani...|            Baby|          1|           12|         20|   N|                Y|cheap...w visual aid|It's been a month...| 2015-08-29|\n",
            "|         US|   26735716| RE1XO71W5US5S|B00VAXZ8T4|     482188959|ezpz Happy Bowl -...|            Baby|          1|           28|         30|   N|                Y|Nice to look at b...|My baby of 7 mont...| 2015-08-29|\n",
            "+-----------+-----------+--------------+----------+--------------+--------------------+----------------+-----------+-------------+-----------+----+-----------------+--------------------+--------------------+-----------+\n",
            "only showing top 20 rows\n",
            "\n"
          ],
          "name": "stdout"
        }
      ]
    },
    {
      "cell_type": "code",
      "metadata": {
        "colab": {
          "base_uri": "https://localhost:8080/"
        },
        "id": "BALXXqTG4c1y",
        "outputId": "1dbc28b8-e54b-42bb-f9c9-a749eee7d9fd"
      },
      "source": [
        "#total number of paid reviews\r\n",
        "total_paid_reviews=vine_y_df.count()\r\n",
        "total_paid_reviews"
      ],
      "execution_count": 13,
      "outputs": [
        {
          "output_type": "execute_result",
          "data": {
            "text/plain": [
              "463"
            ]
          },
          "metadata": {
            "tags": []
          },
          "execution_count": 13
        }
      ]
    },
    {
      "cell_type": "code",
      "metadata": {
        "colab": {
          "base_uri": "https://localhost:8080/"
        },
        "id": "t2GkVw-YhEDD",
        "outputId": "8dc04590-0379-4d9c-fa36-dd6e79f2d9bb"
      },
      "source": [
        "#total number of 5 star paid reviews\r\n",
        "total_paid5_reviews=vine_y_df.filter(\"star_rating==5\").count()\r\n",
        "total_paid5_reviews"
      ],
      "execution_count": 29,
      "outputs": [
        {
          "output_type": "execute_result",
          "data": {
            "text/plain": [
              "202"
            ]
          },
          "metadata": {
            "tags": []
          },
          "execution_count": 29
        }
      ]
    },
    {
      "cell_type": "code",
      "metadata": {
        "colab": {
          "base_uri": "https://localhost:8080/"
        },
        "id": "55o96bjmigZ6",
        "outputId": "2022fb24-b871-4239-fe35-4930ac595314"
      },
      "source": [
        "#percentage of 5 star paid reviews\r\n",
        "perc_paid5_reviews= (total_paid5_reviews / total_paid_reviews)*100\r\n",
        "perc_paid5_reviews"
      ],
      "execution_count": 30,
      "outputs": [
        {
          "output_type": "execute_result",
          "data": {
            "text/plain": [
              "43.628509719222464"
            ]
          },
          "metadata": {
            "tags": []
          },
          "execution_count": 30
        }
      ]
    },
    {
      "cell_type": "code",
      "metadata": {
        "colab": {
          "base_uri": "https://localhost:8080/"
        },
        "id": "DvppdatEloiu",
        "outputId": "6e4093dc-6acd-476c-de97-b9c34fd1ec2b"
      },
      "source": [
        "#total number of unpaid reviews\r\n",
        "total_unpaid_reviews=vine_n_df.count()\r\n",
        "total_unpaid_reviews"
      ],
      "execution_count": 31,
      "outputs": [
        {
          "output_type": "execute_result",
          "data": {
            "text/plain": [
              "25094"
            ]
          },
          "metadata": {
            "tags": []
          },
          "execution_count": 31
        }
      ]
    },
    {
      "cell_type": "code",
      "metadata": {
        "colab": {
          "base_uri": "https://localhost:8080/"
        },
        "id": "gBfr3vnYl4Zc",
        "outputId": "c9ab5da7-cc15-4ca1-90bd-4f3b1f55da34"
      },
      "source": [
        "#total number of 5 star unpaid reviews\r\n",
        "total_unpaid5_reviews=vine_n_df.filter(\"star_rating==5\").count()\r\n",
        "total_unpaid5_reviews"
      ],
      "execution_count": 32,
      "outputs": [
        {
          "output_type": "execute_result",
          "data": {
            "text/plain": [
              "12033"
            ]
          },
          "metadata": {
            "tags": []
          },
          "execution_count": 32
        }
      ]
    },
    {
      "cell_type": "code",
      "metadata": {
        "colab": {
          "base_uri": "https://localhost:8080/"
        },
        "id": "dmlOKnENmCBV",
        "outputId": "d8e69d05-0c9b-47a5-ae5e-fad978e12f9b"
      },
      "source": [
        "#percentage of 5 star unpaid reviews\r\n",
        "perc_unpaid5_reviews= (total_unpaid5_reviews / total_unpaid_reviews)*100\r\n",
        "perc_unpaid5_reviews"
      ],
      "execution_count": 33,
      "outputs": [
        {
          "output_type": "execute_result",
          "data": {
            "text/plain": [
              "47.95170160197657"
            ]
          },
          "metadata": {
            "tags": []
          },
          "execution_count": 33
        }
      ]
    },
    {
      "cell_type": "code",
      "metadata": {
        "colab": {
          "base_uri": "https://localhost:8080/"
        },
        "id": "izhOlRvJnBfs",
        "outputId": "5c176d1b-ddc8-48d4-8164-ed856bb94b7c"
      },
      "source": [
        "# Create DataFrame with results \r\n",
        "dataframe = spark.createDataFrame([\r\n",
        "                                   (\"Paid Vine\", total_paid_reviews, total_paid5_reviews, perc_paid5_reviews),\r\n",
        "                                   (\"Unpaid Vine\", total_unpaid_reviews, total_unpaid5_reviews, perc_unpaid5_reviews),\r\n",
        "], [\"Reviews\", \"Total Reviews\", \"Total 5-star Reviews\", \"Percentage of 5-star Reviews\"])\r\n",
        "\r\n",
        "dataframe.show()"
      ],
      "execution_count": 42,
      "outputs": [
        {
          "output_type": "stream",
          "text": [
            "+-----------+-------------+--------------------+----------------------------+\n",
            "|    Reviews|Total Reviews|Total 5-star Reviews|Percentage of 5-star Reviews|\n",
            "+-----------+-------------+--------------------+----------------------------+\n",
            "|  Paid Vine|          463|                 202|          43.628509719222464|\n",
            "|Unpaid Vine|        25094|               12033|           47.95170160197657|\n",
            "+-----------+-------------+--------------------+----------------------------+\n",
            "\n"
          ],
          "name": "stdout"
        }
      ]
    },
    {
      "cell_type": "code",
      "metadata": {
        "colab": {
          "base_uri": "https://localhost:8080/",
          "height": 111
        },
        "id": "efdKjDIapO_e",
        "outputId": "d58761ff-e6f6-4044-9a9f-5a2c196f4709"
      },
      "source": [
        "\r\n",
        "# Convert PySpark DataFrame to Pandas DataFrame\r\n",
        "import pandas as pd\r\n",
        "pandas_df = dataframe.toPandas()\r\n",
        "pandas_df"
      ],
      "execution_count": 43,
      "outputs": [
        {
          "output_type": "execute_result",
          "data": {
            "text/html": [
              "<div>\n",
              "<style scoped>\n",
              "    .dataframe tbody tr th:only-of-type {\n",
              "        vertical-align: middle;\n",
              "    }\n",
              "\n",
              "    .dataframe tbody tr th {\n",
              "        vertical-align: top;\n",
              "    }\n",
              "\n",
              "    .dataframe thead th {\n",
              "        text-align: right;\n",
              "    }\n",
              "</style>\n",
              "<table border=\"1\" class=\"dataframe\">\n",
              "  <thead>\n",
              "    <tr style=\"text-align: right;\">\n",
              "      <th></th>\n",
              "      <th>Reviews</th>\n",
              "      <th>Total Reviews</th>\n",
              "      <th>Total 5-star Reviews</th>\n",
              "      <th>Percentage of 5-star Reviews</th>\n",
              "    </tr>\n",
              "  </thead>\n",
              "  <tbody>\n",
              "    <tr>\n",
              "      <th>0</th>\n",
              "      <td>Paid Vine</td>\n",
              "      <td>463</td>\n",
              "      <td>202</td>\n",
              "      <td>43.628510</td>\n",
              "    </tr>\n",
              "    <tr>\n",
              "      <th>1</th>\n",
              "      <td>Unpaid Vine</td>\n",
              "      <td>25094</td>\n",
              "      <td>12033</td>\n",
              "      <td>47.951702</td>\n",
              "    </tr>\n",
              "  </tbody>\n",
              "</table>\n",
              "</div>"
            ],
            "text/plain": [
              "       Reviews  ...  Percentage of 5-star Reviews\n",
              "0    Paid Vine  ...                     43.628510\n",
              "1  Unpaid Vine  ...                     47.951702\n",
              "\n",
              "[2 rows x 4 columns]"
            ]
          },
          "metadata": {
            "tags": []
          },
          "execution_count": 43
        }
      ]
    },
    {
      "cell_type": "code",
      "metadata": {
        "colab": {
          "base_uri": "https://localhost:8080/",
          "height": 82
        },
        "id": "vq0-t7xhql-o",
        "outputId": "7c3e2fcc-2477-4f00-8f59-c3671cb6aa18"
      },
      "source": [
        "pandas_df=pandas_df.style.hide_index()\r\n",
        "pandas_df"
      ],
      "execution_count": 44,
      "outputs": [
        {
          "output_type": "execute_result",
          "data": {
            "text/html": [
              "<style  type=\"text/css\" >\n",
              "</style><table id=\"T_62572af4_4a77_11eb_aaf6_0242ac1c0002\" ><thead>    <tr>        <th class=\"col_heading level0 col0\" >Reviews</th>        <th class=\"col_heading level0 col1\" >Total Reviews</th>        <th class=\"col_heading level0 col2\" >Total 5-star Reviews</th>        <th class=\"col_heading level0 col3\" >Percentage of 5-star Reviews</th>    </tr></thead><tbody>\n",
              "                <tr>\n",
              "                                <td id=\"T_62572af4_4a77_11eb_aaf6_0242ac1c0002row0_col0\" class=\"data row0 col0\" >Paid Vine</td>\n",
              "                        <td id=\"T_62572af4_4a77_11eb_aaf6_0242ac1c0002row0_col1\" class=\"data row0 col1\" >463</td>\n",
              "                        <td id=\"T_62572af4_4a77_11eb_aaf6_0242ac1c0002row0_col2\" class=\"data row0 col2\" >202</td>\n",
              "                        <td id=\"T_62572af4_4a77_11eb_aaf6_0242ac1c0002row0_col3\" class=\"data row0 col3\" >43.628510</td>\n",
              "            </tr>\n",
              "            <tr>\n",
              "                                <td id=\"T_62572af4_4a77_11eb_aaf6_0242ac1c0002row1_col0\" class=\"data row1 col0\" >Unpaid Vine</td>\n",
              "                        <td id=\"T_62572af4_4a77_11eb_aaf6_0242ac1c0002row1_col1\" class=\"data row1 col1\" >25094</td>\n",
              "                        <td id=\"T_62572af4_4a77_11eb_aaf6_0242ac1c0002row1_col2\" class=\"data row1 col2\" >12033</td>\n",
              "                        <td id=\"T_62572af4_4a77_11eb_aaf6_0242ac1c0002row1_col3\" class=\"data row1 col3\" >47.951702</td>\n",
              "            </tr>\n",
              "    </tbody></table>"
            ],
            "text/plain": [
              "<pandas.io.formats.style.Styler at 0x7f6cf2315a20>"
            ]
          },
          "metadata": {
            "tags": []
          },
          "execution_count": 44
        }
      ]
    }
  ]
}